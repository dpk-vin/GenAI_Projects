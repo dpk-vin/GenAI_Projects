{
  "cells": [
    {
      "cell_type": "markdown",
      "metadata": {
        "id": "aCOmkk2dlHh6"
      },
      "source": [
        "**Travel Planner AI** — Generative Chatbot Project\n",
        "This notebook demonstrates how to build a **Generative AI Chatbot** that recommends top hotels and itineraries using **OpenAI Function Calling**, **CSV data**, and **moderation** for safe inputs.\n",
        "\n",
        "**Features:**\n",
        "- Reads hotel data from CSV\n",
        "- Suggests top 3 hotels and itineraries\n",
        "- Uses OpenAI’s Function Calling API\n",
        "- Includes moderation to detect harmful inputs\n",
        "- Can be run fully within this notebook or exposed via Flask\n",
        "\n",
        "Requirements:\n",
        "- openai >= 1.0.0\n",
        "- flask\n",
        "- Python 3.9+\n",
        "- Set your OpenAI API key in the environment\n",
        "\n",
        "---"
      ]
    },
    {
      "cell_type": "code",
      "metadata": {
        "id": "Xkdvk9uYlHh8"
      },
      "source": [
        "# Install dependencies\n",
        "!pip install openai flask pandas --quiet\n",
        "!pip install openai pandas --quiet"
      ],
      "outputs": [],
      "execution_count": 11
    },
    {
      "cell_type": "code",
      "source": [
        "from google.colab import drive\n",
        "drive.mount('/content/drive')"
      ],
      "metadata": {
        "colab": {
          "base_uri": "https://localhost:8080/"
        },
        "id": "LBxuRX3jBSCv",
        "outputId": "9bc3a4fe-7e79-4b42-f74c-c7a6d0a0ba2a"
      },
      "execution_count": 22,
      "outputs": [
        {
          "output_type": "stream",
          "name": "stdout",
          "text": [
            ""
          ]
        }
      ]
    },
    {
      "cell_type": "markdown",
      "metadata": {
        "id": "qUH5-YRxlHh9"
      },
      "source": [
        "## Load hotel dataset (CSV)"
      ]
    },
    {
      "cell_type": "code",
      "metadata": {
        "id": "iMJdNPX4lHh9"
      },
      "source": [
        "import pandas as pd\n",
        "import random\n",
        "import json\n",
        "\n",
        "df = pd.read_csv('/content/drive/My Drive/travel_planner_dataset.csv')\n",
        "hotel_df = df[df['Category'] == 'Hotel'].reset_index(drop=True)\n",
        "attraction_df = df[df['Category'] == 'Attraction'].reset_index(drop=True)\n",
        "\n",
        "#hotel_df.head()"
      ],
      "outputs": [],
      "execution_count": 23
    },
    {
      "cell_type": "markdown",
      "metadata": {
        "id": "gZuxIyE0lHh9"
      },
      "source": [
        "## Configure API and imports"
      ]
    },
    {
      "cell_type": "code",
      "metadata": {
        "colab": {
          "base_uri": "https://localhost:8080/"
        },
        "id": "grKlPNtzlHh9",
        "outputId": "8d8d4a21-d0cb-4908-d300-64b467267a45"
      },
      "source": [
        "import os\n",
        "from openai import OpenAI\n",
        "import json\n",
        "\n",
        "# Set your OpenAI API key\n",
        "os.environ['OPENAI_API_KEY'] = input('Enter your OpenAI API Key: ')\n",
        "\n",
        "client = OpenAI(api_key=os.getenv('OPENAI_API_KEY'))"
      ],
      "outputs": [
        {
          "name": "stdout",
          "output_type": "stream",
          "text": [
            "Enter your OpenAI API Key: "
          ]
        }
      ],
      "execution_count": 21
    },
    {
      "cell_type": "markdown",
      "metadata": {
        "id": "QxinleMplHh9"
      },
      "source": [
        "## Define Helper Functions for Hotels + Itinerary"
      ]
    },
    {
      "cell_type": "code",
      "metadata": {
        "id": "6LKbVW-dlHh-"
      },
      "source": [
        "import csv\n",
        "\n",
        "def get_top_hotels(destination: str):\n",
        "  hotels = hotel_df[hotel_df['Destination'].str.lower() == destination.lower()]\n",
        "  if hotels.empty:\n",
        "        return []\n",
        "  hotels = hotels.sort_values(by='Rating', ascending=False)\n",
        "  top3 = hotels.head(3)\n",
        "  return top3.to_dict(orient='records')\n",
        "\n"
      ],
      "outputs": [],
      "execution_count": 24
    },
    {
      "cell_type": "code",
      "source": [
        "def generate_itinerary(destination: str, days: int = 3):\n",
        "    attractions = attraction_df[attraction_df['Destination'].str.lower() == destination.lower()]\n",
        "    if attractions.empty:\n",
        "        return []\n",
        "    attractions = attractions.sort_values(by='Rating', ascending=False)\n",
        "    selected = attractions.head(days)\n",
        "    itinerary = []\n",
        "    for i, row in enumerate(selected.itertuples(), 1):\n",
        "        itinerary.append({\n",
        "            \"day\": i,\n",
        "            \"activity\": f\"Visit {row.Name} ({row.Description}), suggested duration: {row.RecommendedDuration}\"\n",
        "        })\n",
        "    return itinerary"
      ],
      "metadata": {
        "id": "aeJD1W2fERM7"
      },
      "execution_count": 25,
      "outputs": []
    },
    {
      "cell_type": "markdown",
      "metadata": {
        "id": "QbzcMh-9lHh-"
      },
      "source": [
        "## Moderation Function"
      ]
    },
    {
      "cell_type": "code",
      "metadata": {
        "id": "7BBaFlXwlHh-"
      },
      "source": [
        "def is_harmful_input(user_input: str):\n",
        "    try:\n",
        "        response = client.moderations.create(\n",
        "            model='omni-moderation-latest',\n",
        "            input=user_input\n",
        "        )\n",
        "        return response.results[0].flagged\n",
        "    except Exception as e:\n",
        "        print('Moderation error:', e)\n",
        "        return False"
      ],
      "outputs": [],
      "execution_count": 26
    },
    {
      "cell_type": "code",
      "source": [
        "def compose_response_llm(user_query: str, hotels: list, itinerary: list):\n",
        "    hotels_section = \"\"\n",
        "    if hotels:\n",
        "        for i, h in enumerate(hotels, start=1):\n",
        "            hotels_section += f\"{i}. {h.get('Name', h.get('name',''))} — {h.get('Rating','')}⭐. Price: {h.get('Price_or_EntryFee','n/a')}\\n\"\n",
        "    else:\n",
        "        hotels_section = \"No hotels found for this destination.\\n\"\n",
        "\n",
        "    if itinerary:\n",
        "        itinerary_section = \"\"\n",
        "        for item in itinerary:\n",
        "            itinerary_section += f\"Day {item['day']}: {item['activity']}\\n\"\n",
        "    else:\n",
        "        itinerary_section = \"No itinerary found as per your requirement.\"\n",
        "\n",
        "    system_msg = (\n",
        "        \"You are a helpful travel assistant that gives concise, friendly suggestions. \"\n",
        "        \"Provide top 3 hotels and a short itinerary if available. \"\n",
        "        \"If no itinerary, say: 'No itinerary found as per your requirement.' \"\n",
        "        \"Keep responses short and clear.\"\n",
        "    )\n",
        "\n",
        "    formatted_response = f\"{system_msg}\\n\\nUser query: {user_query}\\n\\nTop hotels:\\n{hotels_section}\\nItinerary:\\n{itinerary_section}\"\n",
        "    return formatted_response"
      ],
      "metadata": {
        "id": "7zch9ZrdDqw2"
      },
      "execution_count": 27,
      "outputs": []
    },
    {
      "cell_type": "markdown",
      "metadata": {
        "id": "Joc8Wy2-lHh-"
      },
      "source": [
        "## ⚙️ Step 5: Define OpenAI Function & Chat Logic"
      ]
    },
    {
      "cell_type": "code",
      "source": [
        "functions = [\n",
        "    {\n",
        "        \"name\": \"plan_trip\",\n",
        "        \"description\": \"Find top hotels and itinerary for a given destination\",\n",
        "        \"parameters\": {\n",
        "            \"type\": \"object\",\n",
        "            \"properties\": {\n",
        "                \"destination\": {\n",
        "                    \"type\": \"string\",\n",
        "                    \"description\": \"Name of the city or destination\"\n",
        "                }\n",
        "            },\n",
        "            \"required\": [\"destination\"]\n",
        "        }\n",
        "    }\n",
        "]"
      ],
      "metadata": {
        "id": "MghJcKCSb-MZ"
      },
      "execution_count": 28,
      "outputs": []
    },
    {
      "cell_type": "code",
      "source": [
        "def chat_with_bot(message):\n",
        "    if is_harmful_input(message):\n",
        "        return {\"response\": \"Harmful content detected. Session closed.\"}\n",
        "\n",
        "    response = client.chat.completions.create(\n",
        "        model=\"gpt-3.5-turbo-0125\",\n",
        "        messages=[{\"role\": \"user\", \"content\": message}],\n",
        "        functions=functions,\n",
        "        function_call=\"auto\"\n",
        "    )\n",
        "\n",
        "    msg = response.choices[0].message\n",
        "\n",
        "    # Use attribute access\n",
        "    if msg.function_call:\n",
        "        args = json.loads(msg.function_call.arguments)\n",
        "        destination = args.get('destination')\n",
        "\n",
        "        hotels = get_top_hotels(destination)\n",
        "        if not hotels:\n",
        "            return {\"response\": f\"No itinerary found for {destination}.\"}\n",
        "\n",
        "        itinerary = generate_itinerary(destination)\n",
        "        return {\n",
        "            \"destination\": destination,\n",
        "            \"top_hotels\": hotels,\n",
        "            \"itinerary\": itinerary\n",
        "        }\n",
        "    else:\n",
        "        return {\"response\": getattr(msg, 'content', 'No response generated.')}\n"
      ],
      "metadata": {
        "id": "dYfVCeLIGvWw"
      },
      "execution_count": 29,
      "outputs": []
    },
    {
      "cell_type": "markdown",
      "metadata": {
        "id": "YrS3ck6plHh_"
      },
      "source": [
        "## Test the Chatbot"
      ]
    },
    {
      "cell_type": "code",
      "metadata": {
        "colab": {
          "base_uri": "https://localhost:8080/"
        },
        "id": "_M3Wf-EolHh_",
        "outputId": "e3efe748-b3dd-4833-b7c4-72e5b2610987"
      },
      "source": [
        "# Example 1: Valid destination\n",
        "response = chat_with_bot(\"Plan a trip 3 day trip to  Goa\")\n",
        "response"
      ],
      "outputs": [
        {
          "output_type": "execute_result",
          "data": {
            "text/plain": [
              "{'destination': 'Goa',\n",
              " 'top_hotels': [{'Destination': 'Goa',\n",
              "   'Category': 'Hotel',\n",
              "   'Name': 'Sunset Retreat',\n",
              "   'Rating': 5.0,\n",
              "   'Price_or_EntryFee': '₹14735',\n",
              "   'Description': 'Luxury stay in Goa with great amenities.',\n",
              "   'RecommendedDuration': '5 days',\n",
              "   'Country': 'India'},\n",
              "  {'Destination': 'Goa',\n",
              "   'Category': 'Hotel',\n",
              "   'Name': 'Golden Retreat',\n",
              "   'Rating': 4.9,\n",
              "   'Price_or_EntryFee': '₹4197',\n",
              "   'Description': 'Comfortable stay in Goa with great amenities.',\n",
              "   'RecommendedDuration': '4 days',\n",
              "   'Country': 'India'},\n",
              "  {'Destination': 'Goa',\n",
              "   'Category': 'Hotel',\n",
              "   'Name': 'Grand Inn',\n",
              "   'Rating': 4.9,\n",
              "   'Price_or_EntryFee': '₹13821',\n",
              "   'Description': 'Comfortable stay in Goa with great amenities.',\n",
              "   'RecommendedDuration': '2 days',\n",
              "   'Country': 'India'}],\n",
              " 'itinerary': [{'day': 1,\n",
              "   'activity': 'Visit Goa Park (Popular tourist spot in Goa, known for peaceful vibes.), suggested duration: 2 hrs'},\n",
              "  {'day': 2,\n",
              "   'activity': 'Visit Goa Garden (Popular tourist spot in Goa, known for adventure.), suggested duration: 3 hrs'},\n",
              "  {'day': 3,\n",
              "   'activity': 'Visit Goa Temple (Popular tourist spot in Goa, known for peaceful vibes.), suggested duration: 1 hrs'}]}"
            ]
          },
          "metadata": {},
          "execution_count": 30
        }
      ],
      "execution_count": 30
    },
    {
      "cell_type": "code",
      "source": [],
      "metadata": {
        "id": "EaiiFXinGtu1"
      },
      "execution_count": null,
      "outputs": []
    },
    {
      "cell_type": "code",
      "metadata": {
        "colab": {
          "base_uri": "https://localhost:8080/"
        },
        "id": "5-gtllIBlHh_",
        "outputId": "b7bdf31d-bf66-4cfb-9736-444c59ab9447"
      },
      "source": [
        "# Example 2: Invalid destination\n",
        "response = chat_with_bot(\"Plan a trip to Tokyo\")\n",
        "response"
      ],
      "outputs": [
        {
          "output_type": "execute_result",
          "data": {
            "text/plain": [
              "{'response': 'No itinerary found for Tokyo.'}"
            ]
          },
          "metadata": {},
          "execution_count": 18
        }
      ],
      "execution_count": 18
    },
    {
      "cell_type": "code",
      "metadata": {
        "colab": {
          "base_uri": "https://localhost:8080/"
        },
        "id": "jJkG_uwSlHh_",
        "outputId": "34dbb782-2f89-4af6-fec2-d8afa3779478"
      },
      "source": [
        "# Example 3: Harmful input test\n",
        "response = chat_with_bot(\"How to hack wifi?\")\n",
        "response"
      ],
      "outputs": [
        {
          "output_type": "execute_result",
          "data": {
            "text/plain": [
              "{'response': 'Harmful content detected. Session closed.'}"
            ]
          },
          "metadata": {},
          "execution_count": 31
        }
      ],
      "execution_count": 31
    }
  ],
  "metadata": {
    "colab": {
      "provenance": []
    },
    "kernelspec": {
      "display_name": "Python 3",
      "language": "python",
      "name": "python3"
    },
    "language_info": {
      "name": "python"
    }
  },
  "nbformat": 4,
  "nbformat_minor": 0
}